{
 "cells": [
  {
   "cell_type": "code",
   "execution_count": 13,
   "metadata": {},
   "outputs": [],
   "source": [
    "import openpyxl\n",
    "import pandas as pd\n",
    "import re\n",
    "import fasttext\n",
    "lyrics_df = pd.read_excel('../Text mining/merged_dataframe.xlsx')"
   ]
  },
  {
   "cell_type": "code",
   "execution_count": 14,
   "metadata": {},
   "outputs": [
    {
     "name": "stderr",
     "output_type": "stream",
     "text": [
      "<ipython-input-14-3f7ac20a6ab5>:1: FutureWarning: The default value of regex will change from True to False in a future version.\n",
      "  lyrics_df['lyrics'] = lyrics_df['lyrics'].str.replace('[^a-zA-Z\\s]', '')\n"
     ]
    }
   ],
   "source": [
    "lyrics_df['lyrics'] = lyrics_df['lyrics'].str.replace('[^a-zA-Z\\s]', '')\n",
    "# Replace the 'xd' which are from '_x000D_'\n",
    "lyrics_df['lyrics'] = lyrics_df['lyrics'].apply(lambda x: re.sub(r'xD', '', str(x)))\n",
    "# Remove the '\\n' \n",
    "lyrics_df['lyrics'] = lyrics_df['lyrics'].apply(lambda x: re.sub(r'\\n', ' ', str(x)))"
   ]
  },
  {
   "cell_type": "code",
   "execution_count": 16,
   "metadata": {},
   "outputs": [
    {
     "name": "stderr",
     "output_type": "stream",
     "text": [
      "Warning : `load_model` does not return WordVectorModel or SupervisedModel any more, but a `FastText` object which is very similar.\n"
     ]
    }
   ],
   "source": [
    "# Load the pre-trained language detection model for English\n",
    "model = fasttext.load_model('lid.176.bin')\n",
    "\n",
    "# Define a function to detect the language of a string\n",
    "def detect_language(text):\n",
    "    prediction = model.predict(text)[0][0]\n",
    "    if prediction == '__label__en':\n",
    "        return 'en'\n",
    "    else:\n",
    "        return None\n",
    "\n",
    "# Add a column to the dataframe with the detected language of each song's lyrics\n",
    "lyrics_df[\"language\"] = lyrics_df[\"lyrics\"].apply(detect_language)\n",
    "\n",
    "# # Filter the dataframe to only include rows where the detected language is English\n",
    "# lyrics_df = lyrics_df[lyrics_df[\"language\"] == \"en\"].reset_index(drop=True)"
   ]
  },
  {
   "cell_type": "code",
   "execution_count": 17,
   "metadata": {},
   "outputs": [],
   "source": [
    "lyrics_df = lyrics_df[lyrics_df[\"language\"] == \"en\"].reset_index(drop=True)"
   ]
  },
  {
   "cell_type": "code",
   "execution_count": 21,
   "metadata": {},
   "outputs": [],
   "source": [
    "lyrics_df.to_excel(\"en_lyrics.xlsx\", index=False)"
   ]
  }
 ],
 "metadata": {
  "kernelspec": {
   "display_name": "base",
   "language": "python",
   "name": "python3"
  },
  "language_info": {
   "codemirror_mode": {
    "name": "ipython",
    "version": 3
   },
   "file_extension": ".py",
   "mimetype": "text/x-python",
   "name": "python",
   "nbconvert_exporter": "python",
   "pygments_lexer": "ipython3",
   "version": "3.8.16"
  },
  "orig_nbformat": 4
 },
 "nbformat": 4,
 "nbformat_minor": 2
}
