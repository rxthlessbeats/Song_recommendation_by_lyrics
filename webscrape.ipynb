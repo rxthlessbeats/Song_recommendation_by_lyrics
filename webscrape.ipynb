{
 "cells": [
  {
   "cell_type": "code",
   "execution_count": 1,
   "metadata": {},
   "outputs": [],
   "source": [
    "import requests\n",
    "from bs4 import BeautifulSoup\n",
    "import pandas as pd\n",
    "from datetime import timedelta, date\n",
    "import time"
   ]
  },
  {
   "cell_type": "code",
   "execution_count": 2,
   "metadata": {},
   "outputs": [],
   "source": [
    "def scrape_billboard_chart(url, chart_date):\n",
    "    response = requests.get(url)\n",
    "    soup = BeautifulSoup(response.content, \"html.parser\")\n",
    "    \n",
    "    # chart_date = soup.find_all(\"p\", class_=\"c-tagline a-font-primary-medium-xs u-font-size-11@mobile-max u-letter-spacing-0106 u-letter-spacing-0089@mobile-max lrv-u-line-height-copy lrv-u-text-transform-uppercase lrv-u-margin-a-00 lrv-u-padding-l-075 lrv-u-padding-l-00@mobile-max\")\n",
    "    # chart_date = chart_date[0].text.strip()\n",
    "    \n",
    "    top1_song_name = soup.find_all(\"h3\", id=\"title-of-a-story\", class_=\"c-title a-no-trucate a-font-primary-bold-s u-letter-spacing-0021 u-font-size-23@tablet lrv-u-font-size-16 u-line-height-125 u-line-height-normal@mobile-max a-truncate-ellipsis u-max-width-245 u-max-width-230@tablet-only u-letter-spacing-0028@tablet\")\n",
    "    top1_artist_name = soup.find_all(\"span\", class_=\"c-label a-no-trucate a-font-primary-s lrv-u-font-size-14@mobile-max u-line-height-normal@mobile-max u-letter-spacing-0021 lrv-u-display-block a-truncate-ellipsis-2line u-max-width-330 u-max-width-230@tablet-only u-font-size-20@tablet\")\n",
    "    \n",
    "    song_names = soup.find_all(\"h3\", id=\"title-of-a-story\", class_=\"c-title a-no-trucate a-font-primary-bold-s u-letter-spacing-0021 lrv-u-font-size-18@tablet lrv-u-font-size-16 u-line-height-125 u-line-height-normal@mobile-max a-truncate-ellipsis u-max-width-330 u-max-width-230@tablet-only\")\n",
    "    artist_names = soup.find_all(\"span\", class_=\"c-label a-no-trucate a-font-primary-s lrv-u-font-size-14@mobile-max u-line-height-normal@mobile-max u-letter-spacing-0021 lrv-u-display-block a-truncate-ellipsis-2line u-max-width-330 u-max-width-230@tablet-only\")\n",
    "    # print(song_names)\n",
    "    # print(artist_names)\n",
    "    \n",
    "    chart_data = []\n",
    "    for i in range(len(song_names)):\n",
    "        chart_data.append({\n",
    "            \"song_name\": song_names[i].text.strip(),\n",
    "            \"artist_name\": artist_names[i].text.strip(),\n",
    "            \"chart_date\": chart_date\n",
    "        })\n",
    "    \n",
    "    chart_data.append({\n",
    "        \"song_name\": top1_song_name[0].text.strip(),\n",
    "        \"artist_name\": top1_artist_name[0].text.strip(),\n",
    "        \"chart_date\": chart_date    \n",
    "    })\n",
    "    \n",
    "    return chart_data"
   ]
  },
  {
   "cell_type": "code",
   "execution_count": 3,
   "metadata": {},
   "outputs": [],
   "source": [
    "def scrape_billboard_charts(start_date, end_date):\n",
    "    billboard_charts = []\n",
    "    delta = timedelta(days=7)\n",
    "    while start_date <= end_date:\n",
    "        year = start_date.strftime(\"%Y\")\n",
    "        month = start_date.strftime(\"%m\")\n",
    "        day = start_date.strftime(\"%d\")\n",
    "        url = f\"https://www.billboard.com/charts/hot-100/{year}-{month}-{day}\"\n",
    "        chart_date = f\"{year}-{month}-{day}\"\n",
    "        print(chart_date)\n",
    "        chart_data = scrape_billboard_chart(url, chart_date)\n",
    "        billboard_charts.extend(chart_data)\n",
    "        start_date += delta\n",
    "    return pd.DataFrame(billboard_charts)"
   ]
  },
  {
   "cell_type": "code",
   "execution_count": 35,
   "metadata": {},
   "outputs": [],
   "source": [
    "start_date = date(2022, 5, 4) # first Saturday of 2010\n",
    "end_date = date(2022, 11, 30) # current date"
   ]
  },
  {
   "cell_type": "code",
   "execution_count": 36,
   "metadata": {},
   "outputs": [
    {
     "name": "stdout",
     "output_type": "stream",
     "text": [
      "2022-05-04\n",
      "2022-05-11\n",
      "2022-05-18\n",
      "2022-05-25\n",
      "2022-06-01\n",
      "2022-06-08\n",
      "2022-06-15\n",
      "2022-06-22\n",
      "2022-06-29\n",
      "2022-07-06\n",
      "2022-07-13\n",
      "2022-07-20\n",
      "2022-07-27\n",
      "2022-08-03\n",
      "2022-08-10\n",
      "2022-08-17\n",
      "2022-08-24\n",
      "2022-08-31\n",
      "2022-09-07\n",
      "2022-09-14\n",
      "2022-09-21\n",
      "2022-09-28\n",
      "2022-10-05\n",
      "2022-10-12\n",
      "2022-10-19\n",
      "2022-10-26\n",
      "2022-11-02\n",
      "2022-11-09\n",
      "2022-11-16\n",
      "2022-11-23\n",
      "2022-11-30\n"
     ]
    }
   ],
   "source": [
    "billboard_df = scrape_billboard_charts(start_date, end_date)\n",
    "billboard_df = billboard_df.drop_duplicates(['song_name', 'artist_name']).reset_index(drop=True)"
   ]
  },
  {
   "cell_type": "code",
   "execution_count": 37,
   "metadata": {},
   "outputs": [
    {
     "name": "stdout",
     "output_type": "stream",
     "text": [
      "498\n",
      "     song_name                    artist_name  chart_date\n",
      "0  First Class                    Jack Harlow  2022-05-04\n",
      "1   Heat Waves                  Glass Animals  2022-05-04\n",
      "2   Big Energy                          Latto  2022-05-04\n",
      "3        Enemy          Imagine Dragons X JID  2022-05-04\n",
      "4         Stay  The Kid LAROI & Justin Bieber  2022-05-04\n"
     ]
    }
   ],
   "source": [
    "print(len(billboard_df))\n",
    "print(billboard_df.head())"
   ]
  },
  {
   "cell_type": "code",
   "execution_count": 38,
   "metadata": {},
   "outputs": [],
   "source": [
    "# azlyric version\n",
    "\n",
    "def scrape_lyrics(song_name, artist_name):\n",
    "    \n",
    "    base_url = 'https://www.azlyrics.com/lyrics/'\n",
    "    \n",
    "    if artist_name == \"The Weekend\":\n",
    "        artist_name = 'weeknd'\n",
    "        \n",
    "    if artist_name == \"The Kid Laroi\":\n",
    "        artist_name = 'kidlaroi'\n",
    "        \n",
    "    if artist_name == \"Tyler, the Creator\":\n",
    "        artist_name = 'tylerthe creator'\n",
    "    \n",
    "    artist_name=artist_name.split(\" Featuring \")[0]\n",
    "    artist_name=artist_name.split(\" X \")[0]\n",
    "    artist_name=artist_name.split(\" x \")[0]\n",
    "    artist_name=artist_name.split(\", \")[0]\n",
    "    artist_name=artist_name.split(\" & \")[0]\n",
    "    artist_name=artist_name.split(\" + \")[0]\n",
    "    artist_name=artist_name.replace(\"-\", \"\")\n",
    "    artist_name=artist_name.replace(\"!\", \"\")\n",
    "    artist_name=artist_name.replace(\".\", \"\")\n",
    "    \n",
    "    song_name = song_name.replace(\"'\", \"\")\n",
    "    song_name = song_name.replace(\"-\", \"\")\n",
    "    song_name = song_name.replace(\".\", \"\")\n",
    "    song_name = song_name.replace(\"!\", \"\")\n",
    "    song_name = song_name.replace(\"&\", \"\")\n",
    "    song_name = song_name.replace(\"?\", \"\") \n",
    "    \n",
    "    artist_name = artist_name.lower().replace(\" \", \"\")\n",
    "    song_name = song_name.lower().replace(\" \", \"\")\n",
    "    \n",
    "    url = f'{base_url}{artist_name}/{song_name}.html'\n",
    "\n",
    "    response = requests.get(url)\n",
    "    soup = BeautifulSoup(response.text, 'html.parser')\n",
    "\n",
    "    lyrics_div = soup.find_all(\"div\", attrs={\"class\": None, \"id\": None})\n",
    "    lyrics = [lyric.getText() for lyric in lyrics_div]\n",
    "    lyrics = \" \".join(lyrics)\n",
    "    time.sleep(5)\n",
    "    \n",
    "    return lyrics"
   ]
  },
  {
   "cell_type": "code",
   "execution_count": 39,
   "metadata": {},
   "outputs": [
    {
     "name": "stdout",
     "output_type": "stream",
     "text": [
      "Latto Big Energy -failed to find song- 2\n",
      "The Kid LAROI & Justin Bieber Stay -failed to find song- 4\n",
      "Elton John & Dua Lipa Cold Heart (PNAU Remix) -failed to find song- 12\n",
      "The Kid LAROI Thousand Miles -failed to find song- 13\n",
      "The Weeknd & Ariana Grande Save Your Tears -failed to find song- 14\n",
      "Lil Nas X & Jack Harlow Industry Baby -failed to find song- 20\n",
      "SZA I Hate U -failed to find song- 37\n",
      "Carolina Gaitan, Mauro Castillo, Adassa, Rhenzy Feliz, Diane Guerrero, Stephanie Beatriz & Encanto Cast We Don't Talk About Bruno -failed to find song- 38\n",
      "Cole Swindell / Lainey Wilson Never Say Never -failed to find song- 39\n",
      "Southside, Travis Scott & Future Hold That Heat -failed to find song- 55\n",
      "Doja Cat Get Into It (Yuh) -failed to find song- 71\n",
      "Jessica Darrow Surface Pressure -failed to find song- 73\n",
      "Maren Morris Circles Around This Town -failed to find song- 80\n",
      "The Walters I Love You So -failed to find song- 84\n",
      "The Weeknd Out Of Time -failed to find song- 90\n",
      "Gunna Banking On Me -failed to find song- 91\n",
      "Blake Shelton Come Back As A Country Boy -failed to find song- 92\n",
      "Rauw Alejandro & Chencho Corleone Desesperados -failed to find song- 93\n",
      "Imagine Dragons Bones -failed to find song- 94\n",
      "Queen Naija & Big Sean Hate Our Love -failed to find song- 95\n",
      "Lucky Daye Over -failed to find song- 96\n",
      "Fivio Foreign, Kanye West & Alicia Keys City Of Gods -failed to find song- 97\n",
      "Pusha T Brambleton -failed to find song- 98\n",
      "Harry Styles As It Was -failed to find song- 99\n",
      "Future Puffin On Zootiez -failed to find song- 100\n",
      "Future 712PM -failed to find song- 101\n",
      "Future I'm Dat N***a -failed to find song- 102\n",
      "Future Featuring Drake I'm On One -failed to find song- 103\n",
      "Future Love You Better -failed to find song- 104\n",
      "Future Featuring Kanye West Keep It Burnin -failed to find song- 105\n",
      "Future Massaging Me -failed to find song- 106\n",
      "Future Featuring Gunna & Young Thug For A Nut -failed to find song- 107\n",
      "Future Featuring EST Gee Chickens -failed to find song- 108\n",
      "Future Gold Stacks -failed to find song- 109\n",
      "Future Featuring Kodak Black Voodoo -failed to find song- 110\n",
      "Justin Bieber & Don Toliver Honest -failed to find song- 111\n",
      "Future We Jus Wanna Get High -failed to find song- 112\n",
      "Future Holy Ghost -failed to find song- 113\n",
      "Lil Baby Frozen -failed to find song- 114\n",
      "Future Back To The Basics -failed to find song- 115\n",
      "Future The Way Things Going -failed to find song- 116\n",
      "PSY Featuring SUGA That That -failed to find song- 117\n",
      "Benson Boone In The Stars -failed to find song- 118\n",
      "Taylor Swift This Love (Taylor's Version) -failed to find song- 141\n",
      "Kendrick Lamar Rich (Interlude) -failed to find song- 167\n",
      "Kendrick Lamar Savior (Interlude) -failed to find song- 171\n",
      "Quavo & Takeoff Hotel Lobby (Unc And Phew) -failed to find song- 186\n",
      "Kate Bush Running Up That Hill (A Deal With God) -failed to find song- 189\n",
      "Hitkidd & GloRilla F.N.F. (Let's Go) -failed to find song- 198\n",
      "Post Malone Featuring Doja Cat I Like You (A Happier Song) -failed to find song- 203\n",
      "Post Malone Featuring Gunna I Cannot Be (A Sadder Song) -failed to find song- 205\n",
      "Post Malone Featuring Fleet Foxes Love/Hate Letter To Alcohol -failed to find song- 211\n",
      "BTS Yet To Come -failed to find song- 217\n",
      "BTS Run BTS -failed to find song- 221\n",
      "Beyonce Break My Soul -failed to find song- 229\n",
      "Lil Nas X & Youngboy Never Broke Again Late To Da Party (F*CK BET) -failed to find song- 244\n",
      "Chris Brown WE (Warm Embrace) -failed to find song- 248\n",
      "Cardi B, Ye & Lil Durk Hot Shit -failed to find song- 253\n",
      "Ingrid Andress With Sam Hunt Wishful Drinking -failed to find song- 257\n",
      "Yung Gravy Betty (Get Money) -failed to find song- 268\n",
      "Brent Faiyaz Featuring Alicia Keys Ghetto Gatsby -failed to find song- 272\n",
      "Brent Faiyaz Heal Your Heart (Interlude) -failed to find song- 273\n",
      "Brent Faiyaz Featuring Joony FYTB -failed to find song- 274\n",
      "Lizzo 2 Be Loved (Am I Ready) -failed to find song- 276\n",
      "Chris Young With Mitchell Tenpenny At The End Of A Bar -failed to find song- 279\n",
      "YoungBoy Never Broke Again Vette Motors -failed to find song- 288\n",
      "Bizarrap & Quevedo Bzrp Music Sessions, Vol. 52 -failed to find song- 290\n",
      "Beyonce Cuff It -failed to find song- 291\n",
      "Beyonce Alien Superstar -failed to find song- 292\n",
      "Beyonce Church Girl -failed to find song- 293\n",
      "Beyonce I'm That Girl -failed to find song- 294\n",
      "Beyonce Featuring BEAM Energy -failed to find song- 295\n",
      "Beyonce Cozy -failed to find song- 296\n",
      "Beyonce Plastic Off The Sofa -failed to find song- 297\n",
      "Beyonce Virgo's Groove -failed to find song- 298\n",
      "Beyonce Summer Renaissance -failed to find song- 299\n",
      "Beyonce Heated -failed to find song- 301\n",
      "Beyonce Thique -failed to find song- 302\n",
      "Beyonce Featuring Grace Jones & Tems Move -failed to find song- 303\n",
      "Beyonce Pure/Honey -failed to find song- 304\n",
      "Beyonce America Has A Problem -failed to find song- 305\n",
      "Beyonce All Up In Your Mind -failed to find song- 306\n",
      "Jax Victoria's Secret -failed to find song- 307\n",
      "YoungBoy Never Broke Again Umm Hmm -failed to find song- 311\n",
      "YoungBoy Never Broke Again I Know -failed to find song- 312\n",
      "YoungBoy Never Broke Again Featuring Rod Wave Home Ain't Home -failed to find song- 313\n",
      "YoungBoy Never Broke Again Fuck Da Industry -failed to find song- 314\n",
      "YoungBoy Never Broke Again Free Dem 5's -failed to find song- 315\n",
      "YoungBoy Never Broke Again Lost Soul Survivor -failed to find song- 316\n",
      "YoungBoy Never Broke Again Hold Your Own -failed to find song- 317\n",
      "YoungBoy Never Broke Again Top Sound -failed to find song- 318\n",
      "YoungBoy Never Broke Again Kamikaze -failed to find song- 319\n",
      "YoungBoy Never Broke Again My Time -failed to find song- 320\n",
      "Rosalia Despecha -failed to find song- 322\n",
      "YoungBoy Never Broke Again 7 Days -failed to find song- 323\n",
      "Rod Wave Time Kills (Love Birds) -failed to find song- 337\n",
      "The Weeknd & Ariana Grande Die For You -failed to find song- 343\n",
      "Jackson Dean Don't Come Lookin' -failed to find song- 345\n",
      "DJ Khaled Featuring Kanye West & Eminem Use This Gospel (Remix) -failed to find song- 357\n",
      "DJ Khaled Featuring Quavo & Takeoff Party -failed to find song- 360\n",
      "David Guetta & Bebe Rexha I'm Good (Blue) -failed to find song- 364\n",
      "Kane Brown With Katelyn Brown Thank God -failed to find song- 374\n",
      "YoungBoy Never Broke Again Put It On Me -failed to find song- 376\n",
      "Ghost Mary On A Cross -failed to find song- 379\n",
      "YoungBoy Never Broke Again Purge Me -failed to find song- 380\n",
      "Zach Bryan Burn, Burn, Burn -failed to find song- 381\n",
      "BLEU & Nicki Minaj Love In The Way -failed to find song- 385\n",
      "Lil Nas X Star Walkin' (League Of Legends Worlds Anthem) -failed to find song- 390\n",
      "Marshmello & Juice WRLD Bye Bye -failed to find song- 418\n",
      "Taylor Swift You're On Your Own, Kid -failed to find song- 437\n",
      "Taylor Swift Would've, Could've, Should've -failed to find song- 443\n",
      "Bobby \"Boris\" Pickett And The Crypt-Kickers Monster Mash -failed to find song- 458\n",
      "JIN The Astronaut -failed to find song- 460\n",
      "Drake & 21 Savage More M’s -failed to find song- 476\n",
      "Luke Combs Going, Going, Gone -failed to find song- 486\n",
      "Nat King Cole The Christmas Song (Merry Christmas To You) -failed to find song- 490\n",
      "The Ronettes Sleigh Ride -failed to find song- 491\n",
      "Dean Martin Let It Snow, Let It Snow, Let It Snow -failed to find song- 492\n",
      "Perry Como And The Fontane Sisters With Mitchell Ayres And His Orchestra It's Beginning To Look A Lot Like Christmas -failed to find song- 494\n"
     ]
    }
   ],
   "source": [
    "all_lyric = []\n",
    "for i in range(len(billboard_df)):\n",
    "    try:\n",
    "        all_lyric.append(scrape_lyrics(billboard_df['song_name'][i], billboard_df['artist_name'][i])) \n",
    "        \n",
    "        if scrape_lyrics(billboard_df['song_name'][i], billboard_df['artist_name'][i]) == '': \n",
    "            print(billboard_df['artist_name'][i], billboard_df['song_name'][i], \"-failed to find song-\", i)\n",
    "    except:\n",
    "        if scrape_lyrics(billboard_df['song_name'][i], billboard_df['artist_name'][i]) != '':\n",
    "            all_lyric.append('')\n",
    "        print(billboard_df['artist_name'][i], billboard_df['song_name'][i], \"-failed to load-\")"
   ]
  },
  {
   "cell_type": "code",
   "execution_count": 40,
   "metadata": {},
   "outputs": [
    {
     "data": {
      "text/plain": [
       "498"
      ]
     },
     "execution_count": 40,
     "metadata": {},
     "output_type": "execute_result"
    }
   ],
   "source": [
    "len(all_lyric)\n"
   ]
  },
  {
   "cell_type": "code",
   "execution_count": 41,
   "metadata": {},
   "outputs": [],
   "source": [
    "billboard_df['lyrics'] = all_lyric"
   ]
  },
  {
   "cell_type": "code",
   "execution_count": 42,
   "metadata": {},
   "outputs": [
    {
     "name": "stdout",
     "output_type": "stream",
     "text": [
      "Requirement already satisfied: openpyxl in d:\\anaconda3\\lib\\site-packages (3.1.2)\n",
      "Requirement already satisfied: et-xmlfile in d:\\anaconda3\\lib\\site-packages (from openpyxl) (1.1.0)\n",
      "Note: you may need to restart the kernel to use updated packages.\n"
     ]
    }
   ],
   "source": [
    "%pip install openpyxl\n",
    "import openpyxl\n",
    "billboard_df.to_excel('billboard_lyrics2022.xlsx', index=False)"
   ]
  },
  {
   "cell_type": "code",
   "execution_count": null,
   "metadata": {},
   "outputs": [],
   "source": []
  }
 ],
 "metadata": {
  "kernelspec": {
   "display_name": "base",
   "language": "python",
   "name": "python3"
  },
  "language_info": {
   "codemirror_mode": {
    "name": "ipython",
    "version": 3
   },
   "file_extension": ".py",
   "mimetype": "text/x-python",
   "name": "python",
   "nbconvert_exporter": "python",
   "pygments_lexer": "ipython3",
   "version": "3.8.16"
  },
  "orig_nbformat": 4
 },
 "nbformat": 4,
 "nbformat_minor": 2
}
